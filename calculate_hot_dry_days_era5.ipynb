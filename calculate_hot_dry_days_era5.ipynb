{
 "cells": [
  {
   "cell_type": "code",
   "execution_count": 1,
   "id": "14acb0b3-0a7b-425e-a633-1a2ec4109ba8",
   "metadata": {},
   "outputs": [],
   "source": [
    "import matplotlib\n",
    "from matplotlib import pyplot as plt\n",
    "import xarray as xr\n",
    "import cartopy\n",
    "import cartopy.crs as ccrs\n",
    "import cartopy.feature as cfeature\n",
    "# import matplotlib_inline\n",
    "# %config InlineBackend.figure_format='retina'\n"
   ]
  },
  {
   "cell_type": "markdown",
   "id": "fcdcc928-5815-4380-b4f5-594e0b7789ae",
   "metadata": {},
   "source": [
    "# load data"
   ]
  },
  {
   "cell_type": "code",
   "execution_count": 159,
   "id": "9a15505e-a398-45e0-bc48-4a21a08f0fb5",
   "metadata": {
    "scrolled": true
   },
   "outputs": [],
   "source": [
    "t2m_era5 = xr.open_mfdataset('/data0/samuelb/como2024/ERA5/T2m/balkans/ERA5_????_T2m_*.nc').var167\n",
    "t2m_mpi = xr.open_mfdataset('/data0/samuelb/como2024/MPI-ESM1-2-HR/tas/balkans/*_historical_*.nc').tas\n",
    "sm_land_era5 = xr.open_mfdataset('/data0/samuelb/como2024/ERA5/swvl1_land/balkans/ERAland_????_swvl1_*.nc').var39\n",
    "# sm_era5 = xr.open_mfdataset('/data0/samuelb/como2024/ERA5/swvl1/balkans/ERA5_????_swvl1_*.nc').var39\n",
    "# sm_mpi = xr.open_mfdataset('/data0/samuelb/como2024/MPI-ESM1-2-HR/mrsos/*_balkans_*_historical_*.nc').mrsos\n"
   ]
  },
  {
   "cell_type": "code",
   "execution_count": 163,
   "id": "e1761cd7-60f7-4c03-8af8-c4c26b491ab0",
   "metadata": {},
   "outputs": [],
   "source": [
    "landmask = sm_land_era5.isel(time=0)!=9.96921e+36\n",
    "t2m_era5 = t2m_era5.where(landmask)\n",
    "# sm_era5 = sm_era5.where(landmask)\n",
    "sm_land_era5 = sm_land_era5.where(landmask)\n",
    "# sm_mpi = sm_mpi.where(sm_mpi!=9.96921e+36)/100\n"
   ]
  },
  {
   "cell_type": "code",
   "execution_count": 198,
   "id": "db0b8d78-fdf4-4a07-ade2-c6180f8be495",
   "metadata": {},
   "outputs": [],
   "source": [
    "t2m_era5_summer = t2m_era5.where((t2m_era5.time.dt.month==6) | (t2m_era5.time.dt.month==7) | (t2m_era5.time.dt.month==8))\n",
    "sm_land_era5_summer = sm_land_era5.where((sm_era5.time.dt.month==6) | (sm_land_era5.time.dt.month==7) | (sm_land_era5.time.dt.month==8))\n"
   ]
  },
  {
   "cell_type": "markdown",
   "id": "d0b86c15-50e1-47df-9fdd-56d414a20a68",
   "metadata": {},
   "source": [
    "# calculate hot / dry days"
   ]
  },
  {
   "cell_type": "code",
   "execution_count": 205,
   "id": "4fd0ecfe-9012-419f-bf0f-d9be3de82fb8",
   "metadata": {},
   "outputs": [],
   "source": [
    "# calculate heat threshold\n",
    "t2m_era5_summer_95p = t2m_era5_summer.chunk({'time':-1}).quantile(.95,'time')\n",
    "\n",
    "# calculate dry threshold\n",
    "sm_land_era5_summer_05p = sm_land_era5_summer.chunk({'time':-1}).quantile(.05,'time')\n"
   ]
  },
  {
   "cell_type": "code",
   "execution_count": 206,
   "id": "4b0bcfbf-ecff-4208-9e5e-3bd942f1edad",
   "metadata": {},
   "outputs": [],
   "source": [
    "# select heat excededance days\n",
    "t2m_era5_summer_exceed = t2m_era5_summer > t2m_era5_summer_95p\n",
    "\n",
    "# select dry exceedance days\n",
    "sm_land_era5_summer_exceed = sm_land_era5_summer < sm_land_era5_summer_05p\n"
   ]
  },
  {
   "cell_type": "code",
   "execution_count": 216,
   "id": "ede96a0c-9864-4305-a610-66c7f4d25a72",
   "metadata": {},
   "outputs": [
    {
     "name": "stderr",
     "output_type": "stream",
     "text": [
      "/home/samuelb/.conda/envs/como2024/lib/python3.9/site-packages/xarray/groupers.py:326: FutureWarning: 'M' is deprecated and will be removed in a future version, please use 'ME' instead.\n",
      "  self.index_grouper = pd.Grouper(\n",
      "/home/samuelb/.conda/envs/como2024/lib/python3.9/site-packages/xarray/groupers.py:326: FutureWarning: 'M' is deprecated and will be removed in a future version, please use 'ME' instead.\n",
      "  self.index_grouper = pd.Grouper(\n"
     ]
    }
   ],
   "source": [
    "# sum of exceedance days per week\n",
    "hot_days = t2m_era5_summer_exceed.resample(time='1W').sum()\n",
    "dry_days = sm_land_era5_summer_exceed.resample(time='1W').sum()\n",
    "hot_dry_days = (t2m_era5_summer_exceed & sm_land_era5_summer_exceed).resample(time='1W').sum()\n"
   ]
  },
  {
   "cell_type": "code",
   "execution_count": null,
   "id": "b52f34e2-74fe-430a-8531-f98afb426c31",
   "metadata": {},
   "outputs": [],
   "source": []
  }
 ],
 "metadata": {
  "kernelspec": {
   "display_name": "Python 3 (ipykernel)",
   "language": "python",
   "name": "python3"
  },
  "language_info": {
   "codemirror_mode": {
    "name": "ipython",
    "version": 3
   },
   "file_extension": ".py",
   "mimetype": "text/x-python",
   "name": "python",
   "nbconvert_exporter": "python",
   "pygments_lexer": "ipython3",
   "version": "3.9.7"
  }
 },
 "nbformat": 4,
 "nbformat_minor": 5
}
